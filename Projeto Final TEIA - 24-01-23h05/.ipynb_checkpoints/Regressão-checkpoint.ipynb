{
 "cells": [
  {
   "cell_type": "code",
   "execution_count": 47,
   "metadata": {
    "collapsed": false
   },
   "outputs": [],
   "source": [
    "%matplotlib inline\n",
    "import pandas as arquivo\n",
    "import numpy as np\n",
    "import matplotlib.pyplot as plt\n",
    "#import openpyxl as px\n",
    "import xlrd\n",
    "\n"
   ]
  },
  {
   "cell_type": "code",
   "execution_count": 49,
   "metadata": {
    "collapsed": false
   },
   "outputs": [
    {
     "name": "stdout",
     "output_type": "stream",
     "text": [
      "Gradiente\n",
      "[nan, nan, nan, nan, nan]\n",
      "Gabarito\n"
     ]
    },
    {
     "data": {
      "text/plain": [
       "[38.074243671999994, 28.021683592, 43.01296026, 42.32693164, 47.813781648]"
      ]
     },
     "execution_count": 49,
     "metadata": {},
     "output_type": "execute_result"
    }
   ],
   "source": [
    "class LMSTrainer:\n",
    "     \n",
    "    def _init_(self):\n",
    "        pass\n",
    "        \n",
    "    def h(self,thetas,linhaMatriz):\n",
    "        \n",
    "        hip = 0\n",
    "        #print(\"Linha matriz =\", linhaMatriz)\n",
    "        hip = hip + np.dot(thetas, [1]+linhaMatriz)\n",
    "        \n",
    "        return hip\n",
    "    \n",
    "    def somatorio(self, thetas, exemplos, gabarito, m):\n",
    "        \n",
    "        resultado = 0\n",
    "        \n",
    "        for i in range(m):\n",
    "            resultado = resultado + (self.h(thetas, exemplos[i]) - gabarito[i]) ** 2\n",
    "        return resultado\n",
    "    \n",
    "    def somat(self, thetas, exemplos, gabarito, j):\n",
    "        \n",
    "        resultado = 0\n",
    "        linha = len(gabarito)\n",
    "        \n",
    "        for i in range(linha):\n",
    "            if (j-1) < 0: # se j for 0, significa que estou calculando Theta(0), 0 - 1 < 0\n",
    "                resultado = resultado + self.h(thetas, exemplos[i]) - gabarito[i]\n",
    "            else:\n",
    "                # faço j-1 porque não coloquei uma coluna de 1 para multiplicar o Theta(0) na matriz original, logo\n",
    "                # meu j vai ser maior que o num de colunas na matriz original e acessaria índice indevido\n",
    "                resultado = resultado + (self.h(thetas, exemplos[i]) - gabarito[i])*exemplos[i][j-1]\n",
    "                #print(\"exemplo[i][j-1] =\", exemplos[i][j-1])\n",
    "                \n",
    "        return resultado\n",
    "    \n",
    "    def custo(self, thetas, exemplos, gabarito, qtdElementos):\n",
    "        \n",
    "        m = qtdElementos\n",
    "        valor = (1/(2*m)) * self.somatorio(thetas, exemplos, gabarito, m)\n",
    "        return valor\n",
    "        \n",
    "    def train (self, thetas, exemplos, gabarito):\n",
    "        \n",
    "        linhas = len(gabarito)\n",
    "        alfa = 0.5\n",
    "        aux = [0] * len(thetas)\n",
    "        m = linhas\n",
    "      \n",
    "        for interacoes in range(1000):\n",
    "            for i in range(len(thetas)):\n",
    "                coluna = i\n",
    "                aux[i] = thetas[i] - (alfa/m) * self.somat(thetas, exemplos, gabarito, coluna)\n",
    "                aux[i] = np.round(aux[i],1)\n",
    "                #print(\"Aux = \",aux)\n",
    "            thetas = aux[:]\n",
    "            j = self.custo(thetas, exemplos, gabarito,m)\n",
    "            #plt.scatter(i,j, color=\"red\")\n",
    "            \n",
    "        return LMSPredictor(thetas)\n",
    "    \n",
    "    def analitic(self,exemplos,gabarito):\n",
    "        \n",
    "        for i in range(len(exemplos)):\n",
    "            exemplos[i] = [1]+exemplos[i]\n",
    "            \n",
    "        matrizTransposta = np.transpose(exemplos) \n",
    "        produtoMatrizes = np.dot(matrizTransposta,exemplos) \n",
    "        matrizInversa = np.linalg.inv(produtoMatrizes)\n",
    "       \n",
    "        aux = np.dot(matrizInversa,matrizTransposta) \n",
    "        vetorThetas = np.dot(aux,gabarito)\n",
    "       \n",
    "        return LMSPredictor(vetorThetas)\n",
    "    \n",
    "class LMSPredictor:\n",
    "        \n",
    "    def __init__(self, thetas):\n",
    "        self.thetas = thetas\n",
    "    \n",
    "    def predict (self, samples):\n",
    "        \n",
    "        valores = [0] * len(samples)\n",
    "        \n",
    "        for i in range(len(samples)):\n",
    "            valores[i] = np.dot(self.thetas, [1]+samples[i])\n",
    "            valores[i] = np.round(valores[i],0)\n",
    "        return valores\n",
    "\n",
    "def converte():\n",
    "\n",
    "    leitor = csv.reader(open(\"/home/pandessa/Área de Trabalho/forestfires_matriz.csv\",\"r\"))\n",
    "    matriz = [0.0]*517\n",
    "    j = 0\n",
    "\n",
    "    for linha in leitor:\n",
    "        matriz[j] = linha\n",
    "        j=j+1\n",
    "\n",
    "    for i in range(517):\n",
    "        for j in range(12):\n",
    "            try:\n",
    "                matriz[i][j] = int(matriz[i][j])\n",
    "            except:\n",
    "                matriz[i][j] = float(matriz[i][j])            \n",
    "    return matriz\n",
    "\n",
    "workbook = xlrd.open_workbook('/home/aluno/Área de Trabalho/TEIA/Projeto Final Teia/Concrete_Data.xls')\n",
    "\n",
    "''' usando dataset\n",
    "sheet = workbook.sheet_by_index(0)\n",
    "print (\"numero de colunas: \",sheet.ncols)\n",
    "print (\"numero de llinhas: \",sheet.nrows)\n",
    "'''\n",
    "matriz = []\n",
    "y = []\n",
    "\n",
    "for i in range(sheet.nrows-1):\n",
    "    matriz.append([])\n",
    "    for j in range(sheet.ncols-1):\n",
    "        #print(sheet.cell_value(i+1,j))\n",
    "        matriz[i].append(sheet.cell_value(i+1,j))\n",
    "        \n",
    "for i in range(sheet.nrows-1):\n",
    "    #print (sheet.cell_value(i+1,8))\n",
    "    y.append(sheet.cell_value(i+1,8))\n",
    "\n",
    "    \n",
    "thetas = [0,1,1,1,1,1,1,1,1]\n",
    "xAmostra = matriz[:10]\n",
    "yAmostra = y[:10]\n",
    "xTest    = matriz[10:15]\n",
    "yTest    = y[10:15]\n",
    "\n",
    "lms = LMSTrainer()\n",
    "predictor_grad = lms.train(thetas,xAmostra,yAmostra)\n",
    "\n",
    "print(\"Gradiente\")\n",
    "print(predictor_grad.predict(xTest))\n",
    "print(\"Gabarito\")\n",
    "yTest"
   ]
  },
  {
   "cell_type": "code",
   "execution_count": null,
   "metadata": {
    "collapsed": false
   },
   "outputs": [],
   "source": []
  },
  {
   "cell_type": "code",
   "execution_count": null,
   "metadata": {
    "collapsed": false
   },
   "outputs": [],
   "source": []
  },
  {
   "cell_type": "code",
   "execution_count": null,
   "metadata": {
    "collapsed": true
   },
   "outputs": [],
   "source": []
  },
  {
   "cell_type": "code",
   "execution_count": null,
   "metadata": {
    "collapsed": true
   },
   "outputs": [],
   "source": []
  }
 ],
 "metadata": {
  "anaconda-cloud": {},
  "kernelspec": {
   "display_name": "Python [Root]",
   "language": "python",
   "name": "Python [Root]"
  },
  "language_info": {
   "codemirror_mode": {
    "name": "ipython",
    "version": 3
   },
   "file_extension": ".py",
   "mimetype": "text/x-python",
   "name": "python",
   "nbconvert_exporter": "python",
   "pygments_lexer": "ipython3",
   "version": "3.5.2"
  }
 },
 "nbformat": 4,
 "nbformat_minor": 0
}
