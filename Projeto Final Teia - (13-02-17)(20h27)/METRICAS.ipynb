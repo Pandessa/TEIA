{
 "cells": [
  {
   "cell_type": "markdown",
   "metadata": {},
   "source": [
    "# Classificação"
   ]
  },
  {
   "cell_type": "markdown",
   "metadata": {
    "collapsed": true
   },
   "source": [
    "ACURÁCIA:\n",
    "$$\\frac{TP+TN}{TP+TN+FP+FN}$$\n",
    "\n",
    "RECALL:\n",
    "$$\\frac{TP}{TruePos} = \\frac{TP}{TP+FN}$$\n",
    "\n",
    "PRECISÃO:\n",
    "$$\\frac{TP}{Pred \\times Pos} = \\frac{TP}{TP+FN}$$\n",
    "\n",
    "F1:\n",
    "$$\\frac{2}{\\frac{1}{R}+\\frac{1}{P}} = \\frac{2PR}{P+R}$$\n",
    "\n",
    "MACRO F1:\n",
    "$$\\frac{2P^{'}R^{'}}{P^{'}+R^{'}}$$\n",
    "\n",
    "MICRO F1:\n",
    "$$\\frac{2P^{g}R^{g}}{P^{g}+R^{g}}$$"
   ]
  },
  {
   "cell_type": "code",
   "execution_count": 67,
   "metadata": {
    "collapsed": false
   },
   "outputs": [
    {
     "name": "stdout",
     "output_type": "stream",
     "text": [
      "(0.6666666666666666, 0.6666666666666666, 0.6666666666666666, 0.6, 0.6, 0.6)\n",
      "MICRO F1 0.6333333333333333\n",
      "MATRIZ DE CONFUSÃO:\n",
      " [[4], [2], [2], [3]]\n"
     ]
    }
   ],
   "source": [
    "import numpy as np\n",
    "class Metricas:\n",
    "    \n",
    "    def __init__(self, r, p):\n",
    "        self.resposta = r\n",
    "        self.predicao = p\n",
    "\n",
    "    def matriz_confusao(self, classes):\n",
    "       \n",
    "        tp, fn = 0,0\n",
    "        n = len(classes)\n",
    "        m = len(self.resposta)\n",
    "        matriz = []\n",
    "        TP, FN = [],[]\n",
    "        \n",
    "        # Calcula verdadeiros positivos e falsos negativos para ambas as classes\n",
    "        for i in range(n):\n",
    "            for j in range(m):\n",
    "                if self.predicao[j] == self.resposta[j] and self.resposta[j] == classes[i]:\n",
    "                    tp = tp+1\n",
    "                else:\n",
    "                    if self.predicao[j] != self.resposta[j] and self.resposta[j] == classes[i]:\n",
    "                        fn = fn+1\n",
    "            TP.append(tp)\n",
    "            FN.append(fn)\n",
    "            tp,fn = 0,0\n",
    "            \n",
    "        # Printa a matriz seta a matriz com os valores na ordem correta\n",
    "        for i in range(len(TP)):\n",
    "            matriz.append([TP[i]])\n",
    "            for j in range(len(FN)):\n",
    "                if i == len(TP)-1:\n",
    "                    break\n",
    "                else:\n",
    "                    matriz.append([FN[j]])\n",
    "            \n",
    "        return matriz                \n",
    "    \n",
    "    def recall(self, classe):\n",
    "        \n",
    "        n = len(resposta)\n",
    "        TP = 0\n",
    "        FN = 0\n",
    "        \n",
    "        for i in range(n):\n",
    "            if self.predicao[i] == self.resposta[i] and self.resposta[i] == classe:\n",
    "                TP = TP+1\n",
    "            else:\n",
    "                if self.predicao[i] != self.resposta[i] and self.resposta[i] == classe:\n",
    "                    FN = FN+1\n",
    "        return TP/(TP+FN)\n",
    "    \n",
    "    def precisao(self, classe):\n",
    "        \n",
    "        n = len(resposta)\n",
    "        TP = 0\n",
    "        FP = 0\n",
    "        \n",
    "        for i in range(n):\n",
    "            if self.predicao[i] == self.resposta[i] and self.resposta[i] == classe:\n",
    "                TP = TP+1\n",
    "            else:\n",
    "                if self.predicao[i] != self.resposta[i] and self.resposta[i] != classe:\n",
    "                    FP = FP+1\n",
    "        return TP/(TP+FP)\n",
    "    \n",
    "    def f1(self, classe):\n",
    "        \n",
    "        P = self.precisao(classe)\n",
    "        R = self.recall(classe)\n",
    "        \n",
    "        return 2*P*R/(P+R)\n",
    "    \n",
    "    def acuracia(self):\n",
    "        acerto = 0\n",
    "        n = len(self.resposta)\n",
    "        for i in range(n):\n",
    "            if self.resposta[i] == self.predicao[i]:\n",
    "                acerto = acerto + 1\n",
    "        \n",
    "        return np.round((acerto/n)*100)\n",
    "\n",
    "    def f1_prec_recall(self, classe1, classe2):\n",
    "        \n",
    "        prec_c1 = self.precisao(classe1)\n",
    "        prec_c2 = self.precisao(classe2)\n",
    "        recall_c1 = self.recall(classe1)\n",
    "        recall_c2 = self.recall(classe2)\n",
    "        f1_c1 = self.f1(classe1)\n",
    "        f1_c2 = self.f1(classe2)\n",
    "\n",
    "        return(f1_c1, prec_c1, recall_c1,f1_c2, prec_c2, recall_c2)\n",
    "    \n",
    "    def macro_f1(self, classes):\n",
    "        \n",
    "        p_linha = 0\n",
    "        r_linha = 0\n",
    "        n = len(classes)\n",
    "        \n",
    "        for i in range(n):\n",
    "            p_linha = p_linha + precisao(classes[i])\n",
    "            r_linha = r_linha + recall(classes[i])\n",
    "            \n",
    "        p_linha = p_linha/n\n",
    "        r_linha = r_linha/n\n",
    "        \n",
    "        return 2*p_linha*r_linha/(p_linha + r_linha)\n",
    "\n",
    "    def micro_f1(self, classes):\n",
    "        \n",
    "        n = len(classes)\n",
    "        p_geral = 0\n",
    "        r_geral = 0\n",
    "        \n",
    "        for i in range(n):\n",
    "            p_geral = p_geral + self.precisao(classes[i])\n",
    "            r_geral = r_geral + self.recall(classes[i])\n",
    "\n",
    "        p_geral = p_geral/n\n",
    "        r_geral = r_geral/n\n",
    "        \n",
    "        return 2*p_geral*r_geral/(p_geral+r_geral)\n",
    "    \n",
    "benigno = 1\n",
    "maligno = 0\n",
    "\n",
    "resposta = [1,1,1,0,1,0,0,0,1,1,0]\n",
    "predicao = [1,1,0,1,0,0,0,1,1,1,0]\n",
    "\n",
    "super_metrica = Metricas(resposta, predicao)\n",
    "print(super_metrica.f1_prec_recall(benigno, maligno))\n",
    "print(\"MICRO F1\",super_metrica.micro_f1([benigno, maligno]))\n",
    "print(\"MATRIZ DE CONFUSÃO:\\n\", super_metrica.matriz_confusao([benigno, maligno]))\n"
   ]
  },
  {
   "cell_type": "markdown",
   "metadata": {},
   "source": [
    "# Regressão"
   ]
  },
  {
   "cell_type": "markdown",
   "metadata": {
    "collapsed": true
   },
   "source": [
    "MAE:\n",
    "$$\\frac{1}{n} \\times \\sum_{i=1}^{n} |true_{i}-pred_{i}|$$\n",
    "\n",
    "MSE:\n",
    "$$\\frac{1}{n} \\times \\sum_{i=1}^{n} (true_{i}-pred_{i})^2$$\n",
    "\n",
    "RMSE:\n",
    "$$\\sqrt{MSE}$$\n",
    "\n",
    "MAPE:\n",
    "$$\\frac{100}{n} \\times \\sum_{i=1}^{n}|\\frac{true_{i}-pred_{i}}{true_{i}}|$$"
   ]
  },
  {
   "cell_type": "code",
   "execution_count": 14,
   "metadata": {
    "collapsed": false
   },
   "outputs": [
    {
     "name": "stdout",
     "output_type": "stream",
     "text": [
      "MAE: 0.166\n",
      "MSE: 0.0377\n",
      "RMSE: 0.1942\n",
      "MAPE: 0.0418\n"
     ]
    }
   ],
   "source": [
    "import numpy as np\n",
    "from numpy import sqrt\n",
    "\n",
    "def mae(resposta, predicao):\n",
    "    n = len(resposta)\n",
    "    soma = .0\n",
    "    dif = 0\n",
    "    for i in range(n):\n",
    "        dif = resposta[i] - predicao[i]\n",
    "        soma = soma + abs(dif)\n",
    "    return soma/n\n",
    "\n",
    "def mse(resposta, predicao):\n",
    "    soma = .0\n",
    "    dif = 0\n",
    "    n = len(resposta)\n",
    "    for i in range(n):\n",
    "        dif = (resposta[i] - predicao[i])**2\n",
    "        soma = soma+dif\n",
    "    return soma/n\n",
    "\n",
    "def rmse(resposta, predicao):\n",
    "    return sqrt(mse(resposta, predicao))\n",
    "\n",
    "def mape(resposta, predicao):\n",
    "    soma = .0\n",
    "    dif = 0\n",
    "    n = len(resposta)\n",
    "    \n",
    "    for i in range(n):\n",
    "        dif = abs((resposta[i] - predicao[i])/resposta[i])\n",
    "        soma = soma + dif\n",
    "    return soma/n\n",
    "\n",
    "resposta = [1,2.5, 3, 9.1, 8]\n",
    "predicao = [0.99, 2.3, 2.78, 8.8, 7.9]\n",
    "\n",
    "print('MAE:',np.round(mae(resposta, predicao),4))\n",
    "print('MSE:',np.round(mse(resposta, predicao),4))\n",
    "print('RMSE:',np.round(rmse(resposta, predicao),4))\n",
    "print('MAPE:',np.round(mape(resposta, predicao),4))"
   ]
  },
  {
   "cell_type": "code",
   "execution_count": null,
   "metadata": {
    "collapsed": true
   },
   "outputs": [],
   "source": []
  },
  {
   "cell_type": "code",
   "execution_count": null,
   "metadata": {
    "collapsed": true
   },
   "outputs": [],
   "source": []
  },
  {
   "cell_type": "code",
   "execution_count": null,
   "metadata": {
    "collapsed": true
   },
   "outputs": [],
   "source": []
  },
  {
   "cell_type": "code",
   "execution_count": 4,
   "metadata": {
    "collapsed": true
   },
   "outputs": [],
   "source": [
    "import numpy as np\n",
    "\n",
    "a = np.asarray(gabarito)\n",
    "b = np.asarray(predicao)\n",
    "sum(a==b)"
   ]
  },
  {
   "cell_type": "code",
   "execution_count": null,
   "metadata": {
    "collapsed": true
   },
   "outputs": [],
   "source": [
    "\n"
   ]
  },
  {
   "cell_type": "code",
   "execution_count": null,
   "metadata": {
    "collapsed": false
   },
   "outputs": [],
   "source": []
  },
  {
   "cell_type": "code",
   "execution_count": null,
   "metadata": {
    "collapsed": false
   },
   "outputs": [],
   "source": [
    "\n",
    "\n"
   ]
  },
  {
   "cell_type": "code",
   "execution_count": null,
   "metadata": {
    "collapsed": true
   },
   "outputs": [],
   "source": []
  }
 ],
 "metadata": {
  "anaconda-cloud": {},
  "kernelspec": {
   "display_name": "Python [Root]",
   "language": "python",
   "name": "Python [Root]"
  },
  "language_info": {
   "codemirror_mode": {
    "name": "ipython",
    "version": 3
   },
   "file_extension": ".py",
   "mimetype": "text/x-python",
   "name": "python",
   "nbconvert_exporter": "python",
   "pygments_lexer": "ipython3",
   "version": "3.5.2"
  }
 },
 "nbformat": 4,
 "nbformat_minor": 1
}
