{
 "cells": [
  {
   "cell_type": "code",
   "execution_count": 2,
   "metadata": {
    "collapsed": false
   },
   "outputs": [
    {
     "name": "stdout",
     "output_type": "stream",
     "text": [
      "Mean squared error: 0.00\n",
      "Gabarito\n",
      "[ 0.001423  0.001454  0.001452  0.001421  0.001463  0.001488  0.001465\n",
      "  0.001452  0.001469  0.00143   0.001448  0.001461  0.001423  0.001454\n",
      "  0.001473  0.001536  0.001456  0.001499  0.001479]\n",
      "Previsao\n",
      "[ 0.001427  0.001453  0.001436  0.001429  0.001452  0.001482  0.001465\n",
      "  0.001452  0.001456  0.001433  0.001447  0.001456  0.001417  0.001458\n",
      "  0.001479  0.001496  0.00145   0.001489  0.001483]\n"
     ]
    }
   ],
   "source": [
    "import matplotlib.pyplot as plt\n",
    "import numpy as np\n",
    "import xlrd\n",
    "from sklearn import datasets, linear_model\n",
    "\n",
    "def normalGaussiana(X):\n",
    "    \n",
    "    dp = np.std(X)\n",
    "    a = 1/(dp*np.sqrt(2*np.pi))\n",
    "    media = np.mean(X)\n",
    "    (n,m) = np.shape(X)  \n",
    "    \n",
    "    for i in range(n):\n",
    "        for j in range(m):\n",
    "            X[i][j] = a*(np.exp(1)**(1/2))**(((X[i][j] - media)/dp)**2)\n",
    "    \n",
    "    return X\n",
    "\n",
    "workbook = xlrd.open_workbook('/home/mmrosa/MEGA/MEGAsync/Teia/Projeto Final Teia/Concrete_Data.xls')\n",
    "\n",
    "#usando dataset\n",
    "sheet = workbook.sheet_by_index(0)\n",
    "#print (\"numero de colunas: \",sheet.ncols)\n",
    "#print (\"numero de llinhas: \",sheet.nrows)\n",
    "\n",
    "matriz = []\n",
    "y = []\n",
    "\n",
    "for i in range(sheet.nrows-1):\n",
    "    matriz.append([])\n",
    "    for j in range(sheet.ncols):\n",
    "        #print(sheet.cell_value(i+1,j))\n",
    "        matriz[i].append(sheet.cell_value(i+1,j))\n",
    "\n",
    "        '''\n",
    "for i in range(sheet.nrows-1):\n",
    "    #print (sheet.cell_value(i+1,8))\n",
    "    y.append(sheet.cell_value(i+1,8))\n",
    "\n",
    " '''\n",
    "        \n",
    "#Normaliza os atributos\n",
    "matrix = []\n",
    "matrix = normalGaussiana(matriz)\n",
    "\n",
    "\n",
    "for i in range(1030):\n",
    "    #print (sheet.cell_value(i+1,8))\n",
    "    y.append(matrix[i][8])\n",
    "    \n",
    "#Retira uma coluna da matriz\n",
    "for i in range(1030):\n",
    "    matrix[i] = matrix[i][0:8]\n",
    "    \n",
    "    \n",
    "thetas = [0,1,1,1,1,1,1,1,1]\n",
    "xAmostra = matrix[:30]\n",
    "yAmostra = y[:30]\n",
    "xTest    = matrix[31:50]\n",
    "yTest    = y[31:50]\n",
    "\n",
    "regression = linear_model.LinearRegression()\n",
    "\n",
    "\n",
    "# Create linear regression object\n",
    "regression = linear_model.LinearRegression()\n",
    "\n",
    "# Train the model using the training sets\n",
    "regression.fit(xAmostra, yAmostra)\n",
    "\n",
    "# The coefficients\n",
    "#print('Coefficients: \\n', regr.coef_)\n",
    "\n",
    "print(\"Mean squared error: %.2f\"\n",
    "      % np.mean((regression.predict(xTest) - yTest) ** 2))\n",
    "\n",
    "#print('Variance score: %.2f' % regr.score(xTest,yTest))\n",
    "\n",
    "print(\"Gabarito\")\n",
    "print(np.round(yTest,6))\n",
    "print(\"Previsao\")\n",
    "print(np.round(regression.predict(xTest),6))\n",
    "\n",
    "#lms = LMSTrainer()\n",
    "#predictor_grad = lms.train(thetas,xAmostra,yAmostra)\n",
    "\n",
    "#print(\"Gradiente\")\n",
    "#print(predictor_grad.predict(xTest))\n"
   ]
  },
  {
   "cell_type": "code",
   "execution_count": 2,
   "metadata": {
    "collapsed": false
   },
   "outputs": [
    {
     "ename": "NameError",
     "evalue": "name 'yTest' is not defined",
     "output_type": "error",
     "traceback": [
      "\u001b[1;31m---------------------------------------------------------------------------\u001b[0m",
      "\u001b[1;31mNameError\u001b[0m                                 Traceback (most recent call last)",
      "\u001b[1;32m<ipython-input-2-a38b6d52ac92>\u001b[0m in \u001b[0;36m<module>\u001b[1;34m()\u001b[0m\n\u001b[0;32m     33\u001b[0m     \u001b[1;32mreturn\u001b[0m \u001b[0msoma\u001b[0m\u001b[1;33m/\u001b[0m\u001b[0mn\u001b[0m\u001b[1;33m\u001b[0m\u001b[0m\n\u001b[0;32m     34\u001b[0m \u001b[1;33m\u001b[0m\u001b[0m\n\u001b[1;32m---> 35\u001b[1;33m \u001b[0mprint\u001b[0m\u001b[1;33m(\u001b[0m\u001b[0mmae\u001b[0m\u001b[1;33m(\u001b[0m\u001b[0myTest\u001b[0m\u001b[1;33m,\u001b[0m\u001b[0mregression\u001b[0m\u001b[1;33m.\u001b[0m\u001b[0mpredict\u001b[0m\u001b[1;33m(\u001b[0m\u001b[0mxTest\u001b[0m\u001b[1;33m)\u001b[0m\u001b[1;33m)\u001b[0m\u001b[1;33m)\u001b[0m\u001b[1;33m\u001b[0m\u001b[0m\n\u001b[0m\u001b[0;32m     36\u001b[0m \u001b[0mprint\u001b[0m\u001b[1;33m(\u001b[0m\u001b[0mmse\u001b[0m\u001b[1;33m(\u001b[0m\u001b[0myTest\u001b[0m\u001b[1;33m,\u001b[0m\u001b[0mregression\u001b[0m\u001b[1;33m.\u001b[0m\u001b[0mpredict\u001b[0m\u001b[1;33m(\u001b[0m\u001b[0mxTest\u001b[0m\u001b[1;33m)\u001b[0m\u001b[1;33m)\u001b[0m\u001b[1;33m)\u001b[0m\u001b[1;33m\u001b[0m\u001b[0m\n\u001b[0;32m     37\u001b[0m \u001b[0mprint\u001b[0m\u001b[1;33m(\u001b[0m\u001b[0mrmse\u001b[0m\u001b[1;33m(\u001b[0m\u001b[0myTest\u001b[0m\u001b[1;33m,\u001b[0m\u001b[0mregression\u001b[0m\u001b[1;33m.\u001b[0m\u001b[0mpredict\u001b[0m\u001b[1;33m(\u001b[0m\u001b[0mxTest\u001b[0m\u001b[1;33m)\u001b[0m\u001b[1;33m)\u001b[0m\u001b[1;33m)\u001b[0m\u001b[1;33m\u001b[0m\u001b[0m\n",
      "\u001b[1;31mNameError\u001b[0m: name 'yTest' is not defined"
     ]
    }
   ],
   "source": [
    "import numpy as np\n",
    "from numpy import sqrt\n",
    "\n",
    "def mae(resposta, predicao):\n",
    "    n = len(resposta)\n",
    "    soma = .0\n",
    "    dif = 0\n",
    "    for i in range(n):\n",
    "        dif = resposta[i] - predicao[i]\n",
    "        soma = soma + abs(dif)\n",
    "    return soma/n\n",
    "\n",
    "def mse(resposta, predicao):\n",
    "    soma = .0\n",
    "    dif = 0\n",
    "    n = len(resposta)\n",
    "    for i in range(n):\n",
    "        dif = (resposta[i] - predicao[i])**2\n",
    "        soma = soma+dif\n",
    "    return soma/n\n",
    "\n",
    "def rmse(resposta, predicao):\n",
    "    return sqrt(mse(resposta, predicao))\n",
    "\n",
    "def mape(resposta, predicao):\n",
    "    soma = .0\n",
    "    dif = 0\n",
    "    n = len(resposta)\n",
    "    \n",
    "    for i in range(n):\n",
    "        dif = abs((resposta[i] - predicao[i])/resposta[i])\n",
    "        soma = soma + dif\n",
    "    return soma/n\n",
    "\n",
    "print(mae (yTest,regression.predict(xTest)))\n",
    "print(mse (yTest,regression.predict(xTest)))\n",
    "print(rmse(yTest,regression.predict(xTest)))\n",
    "print(mape(yTest,regression.predict(xTest)))"
   ]
  },
  {
   "cell_type": "code",
   "execution_count": null,
   "metadata": {
    "collapsed": true
   },
   "outputs": [],
   "source": []
  }
 ],
 "metadata": {
  "anaconda-cloud": {},
  "kernelspec": {
   "display_name": "Python 3",
   "language": "python",
   "name": "python3"
  },
  "language_info": {
   "codemirror_mode": {
    "name": "ipython",
    "version": 3
   },
   "file_extension": ".py",
   "mimetype": "text/x-python",
   "name": "python",
   "nbconvert_exporter": "python",
   "pygments_lexer": "ipython3",
   "version": "3.6.0"
  }
 },
 "nbformat": 4,
 "nbformat_minor": 1
}
